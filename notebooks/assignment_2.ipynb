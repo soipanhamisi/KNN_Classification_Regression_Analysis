{
 "cells": [
  {
   "metadata": {},
   "cell_type": "markdown",
   "source": "#### Loading the noshowappointments dataset from Kaggle and loading it onto a Pandas dataframe",
   "id": "6efb97db5abd8240"
  },
  {
   "metadata": {},
   "cell_type": "code",
   "outputs": [],
   "execution_count": null,
   "source": [
    "import kagglehub\n",
    "path = kagglehub.dataset_download(\"joniarroba/noshowappointments\")\n",
    "print(\"path to dataset files -> {}\".format(path))"
   ],
   "id": "628e85dadb9e7fdb"
  },
  {
   "metadata": {},
   "cell_type": "code",
   "outputs": [],
   "execution_count": null,
   "source": [
    "import os\n",
    "print(os.listdir(path))"
   ],
   "id": "a6ce23ba861875d9"
  },
  {
   "metadata": {},
   "cell_type": "code",
   "outputs": [],
   "execution_count": null,
   "source": [
    "import pandas as pd\n",
    "files = os.listdir(path)\n",
    "csv_file = [f for f in files if f.endswith('.csv')][0]\n",
    "fullpath = os.path.join(path, csv_file)\n",
    "noshow_dataset_df = pd.read_csv(fullpath)"
   ],
   "id": "e1b91cefb2875e2e"
  },
  {
   "metadata": {},
   "cell_type": "markdown",
   "source": "#### Data exploratrion",
   "id": "a8e46e659c06700b"
  },
  {
   "metadata": {},
   "cell_type": "code",
   "outputs": [],
   "execution_count": null,
   "source": "noshow_dataset_df.head(4)",
   "id": "a8187374f8329233"
  },
  {
   "metadata": {},
   "cell_type": "code",
   "outputs": [],
   "execution_count": null,
   "source": "noshow_dataset_df.info()",
   "id": "7b7072553bc28743"
  },
  {
   "metadata": {},
   "cell_type": "code",
   "outputs": [],
   "execution_count": null,
   "source": "noshow_dataset_df.describe()",
   "id": "db2c0c251cd75fec"
  },
  {
   "metadata": {},
   "cell_type": "markdown",
   "source": "#### Removal of features than cannot affect the outcome(i.e., whether the patient is a no show) in any way",
   "id": "69f19bbbfc7b2e8"
  },
  {
   "metadata": {},
   "cell_type": "code",
   "outputs": [],
   "execution_count": null,
   "source": "noshow_dataset_df1 = noshow_dataset_df.drop(['PatientId', 'AppointmentID'], axis=1)",
   "id": "3dde5590a5768f51"
  },
  {
   "metadata": {},
   "cell_type": "code",
   "outputs": [],
   "execution_count": null,
   "source": "noshow_dataset_df1.describe()",
   "id": "76b267b80fae4803"
  },
  {
   "metadata": {},
   "cell_type": "code",
   "outputs": [],
   "execution_count": null,
   "source": "noshow_dataset_df1.head()",
   "id": "1f7f5263c5055624"
  },
  {
   "metadata": {},
   "cell_type": "code",
   "outputs": [],
   "execution_count": null,
   "source": "noshow_dataset_df1.tail(100)",
   "id": "187708499ef298c9"
  },
  {
   "metadata": {},
   "cell_type": "markdown",
   "source": "## converting all the columns to numeric datatypes",
   "id": "30902b403d84af6c"
  },
  {
   "metadata": {},
   "cell_type": "markdown",
   "source": "male values denoted by 'M' in the Gender column are encoded as 0 and female → 'F' encoded as 1",
   "id": "8d9a786c3792306b"
  },
  {
   "metadata": {},
   "cell_type": "code",
   "outputs": [],
   "execution_count": null,
   "source": "noshow_dataset_df1['Gender'] = noshow_dataset_df1['Gender'].apply(lambda x: 1 if x == 'F' else 0)",
   "id": "eaff10c08e9e33c2"
  },
  {
   "metadata": {},
   "cell_type": "code",
   "outputs": [],
   "execution_count": null,
   "source": "noshow_dataset_df1.keys()",
   "id": "f75782bb15bcd010"
  },
  {
   "metadata": {},
   "cell_type": "markdown",
   "source": [
    "Encoding of the No-show column:\n",
    " 'Yes' encoded as 1\n",
    " 'No' encoded as 0"
   ],
   "id": "b5d66dbd94db93c5"
  },
  {
   "metadata": {},
   "cell_type": "code",
   "outputs": [],
   "execution_count": null,
   "source": "noshow_dataset_df1['No-show'] = noshow_dataset_df1['No-show'].apply(lambda x: 1 if x == 'Yes' else 0)",
   "id": "983ce5748a493a56"
  },
  {
   "metadata": {},
   "cell_type": "code",
   "outputs": [],
   "execution_count": null,
   "source": "noshow_dataset_df1.describe()",
   "id": "6a33f4c0a557e9e3"
  },
  {
   "metadata": {},
   "cell_type": "code",
   "outputs": [],
   "execution_count": null,
   "source": "noshow_dataset_df1.info()",
   "id": "d602546b05ab4a0d"
  },
  {
   "metadata": {},
   "cell_type": "code",
   "outputs": [],
   "execution_count": null,
   "source": "noshow_dataset_df1[['ScheduledDay', 'AppointmentDay']].tail(100)",
   "id": "3a01b15cd230dfda"
  },
  {
   "metadata": {},
   "cell_type": "markdown",
   "source": "## Feature engineering",
   "id": "6ce837ecea0360c1"
  },
  {
   "metadata": {},
   "cell_type": "markdown",
   "source": "In the cell below, the duration, in days, between schedule day and appointment day is derived and stored in a column",
   "id": "6ca6e306926b0e3a"
  },
  {
   "metadata": {},
   "cell_type": "code",
   "outputs": [],
   "execution_count": null,
   "source": [
    "noshow_dataset_df1[['AppointmentDay', 'ScheduledDay']] = noshow_dataset_df1[['AppointmentDay', 'ScheduledDay']].apply(pd.to_datetime)\n",
    "noshow_dataset_df1['WaitingDays'] = (noshow_dataset_df1['AppointmentDay'] - noshow_dataset_df1['ScheduledDay']).dt.days"
   ],
   "id": "13b9ac9344e45e56"
  },
  {
   "metadata": {},
   "cell_type": "code",
   "outputs": [],
   "execution_count": null,
   "source": "noshow_dataset_df1['WaitingDays'].head(10000)",
   "id": "3dc985423e2b7ac6"
  },
  {
   "metadata": {},
   "cell_type": "code",
   "outputs": [],
   "execution_count": null,
   "source": [
    "negative_wait = noshow_dataset_df1[noshow_dataset_df1['WaitingDays'] < 0]\n",
    "print(f\"Records with negative waiting time: {len(negative_wait)}\")\n",
    "print(f\"Percentage of total: {len(negative_wait)/len(noshow_dataset_df1)*100:.2f}%\")"
   ],
   "id": "b0a79eb965870402"
  },
  {
   "metadata": {},
   "cell_type": "code",
   "outputs": [],
   "execution_count": null,
   "source": "noshow_dataset_df1[noshow_dataset_df1['WaitingDays'] == -1].sample(n=10, replace=True)",
   "id": "634bdeee50c2cb3b"
  },
  {
   "metadata": {},
   "cell_type": "code",
   "outputs": [],
   "execution_count": null,
   "source": "noshow_dataset_df1[(noshow_dataset_df1['WaitingDays'] == -1) & (noshow_dataset_df1['No-show'] == 1)].sample(n=5)",
   "id": "51bfe076956abb1f"
  },
  {
   "metadata": {},
   "cell_type": "code",
   "outputs": [],
   "execution_count": null,
   "source": "print(len(noshow_dataset_df[(noshow_dataset_df1['WaitingDays'] == -1) & (noshow_dataset_df1['No-show'] == 1)])/ len(negative_wait) * 100)",
   "id": "c7a4da7c3912fc15"
  },
  {
   "metadata": {},
   "cell_type": "markdown",
   "source": [
    "some statistics,\n",
    "    37% of records show negative waiting times\n",
    "    of that 4% are no show appointments\n",
    "conclusion:\n",
    "    initially thought negative waiting times are a proxy for walk-in appointments, however, 4% no show subset disproves this, and\n",
    "    now it is assumed that they are errors in data collections."
   ],
   "id": "399c9ac0a53e7856"
  },
  {
   "metadata": {},
   "cell_type": "markdown",
   "source": "### issuing an integer id for each unique neighborhood",
   "id": "fb4d55d2166ced23"
  },
  {
   "metadata": {},
   "cell_type": "code",
   "outputs": [],
   "execution_count": null,
   "source": "print(noshow_dataset_df1['Neighbourhood'].nunique())",
   "id": "2040331417b0c4"
  },
  {
   "metadata": {},
   "cell_type": "markdown",
   "source": "80 unique neighborhoods to be converted into 80 integer ids",
   "id": "fcc36990dacd438b"
  },
  {
   "metadata": {},
   "cell_type": "code",
   "outputs": [],
   "execution_count": null,
   "source": [
    "from sklearn.preprocessing import LabelEncoder\n",
    "le = LabelEncoder()\n",
    "noshow_dataset_df1['Neighbourhood'] = le.fit_transform(noshow_dataset_df1['Neighbourhood'])\n",
    "print(\"Neighbourhood lookup table:\\n\")\n",
    "for i,class_name in enumerate(le.classes_):\n",
    "    print(\"ID: {}, Neighborhood name: {}\".format(i, class_name))"
   ],
   "id": "98501072173ebe24"
  },
  {
   "metadata": {},
   "cell_type": "code",
   "outputs": [],
   "execution_count": null,
   "source": "noshow_dataset_df1.head(5)",
   "id": "5bc93690d609bc01"
  },
  {
   "metadata": {},
   "cell_type": "markdown",
   "source": "extracting the day of the week and month for the appointment",
   "id": "f96ff08ccee1852e"
  },
  {
   "metadata": {},
   "cell_type": "code",
   "outputs": [],
   "execution_count": null,
   "source": [
    "noshow_dataset_df1['appointment_day_of_week'] = noshow_dataset_df1['AppointmentDay'].dt.day_name()\n",
    "noshow_dataset_df1['appointment_month'] = noshow_dataset_df1['AppointmentDay'].dt.month"
   ],
   "id": "204f0ed7fe198e38"
  },
  {
   "metadata": {},
   "cell_type": "markdown",
   "source": "encoding the day of the week",
   "id": "e4b389179d3adbea"
  },
  {
   "metadata": {},
   "cell_type": "code",
   "outputs": [],
   "execution_count": null,
   "source": [
    "# For KNN, you might want numerical encoding\n",
    "day_mapping = {'Monday': 0, 'Tuesday': 1, 'Wednesday': 2, 'Thursday': 3,\n",
    "               'Friday': 4, 'Saturday': 5, 'Sunday': 6}\n",
    "noshow_dataset_df1['day_of_week_encoded'] = noshow_dataset_df1['appointment_day_of_week'].map(day_mapping)"
   ],
   "id": "93dce7262b2f2a1e"
  },
  {
   "metadata": {},
   "cell_type": "code",
   "outputs": [],
   "execution_count": null,
   "source": "noshow_dataset_df1['appointment_month'].sample(10000)",
   "id": "c41d8ded3678b02c"
  },
  {
   "metadata": {},
   "cell_type": "code",
   "outputs": [],
   "execution_count": null,
   "source": "noshow_dataset_df1[['appointment_month','AppointmentDay']].sample(20)",
   "id": "29b4bdc3868681f9"
  },
  {
   "metadata": {},
   "cell_type": "markdown",
   "source": "### adding the hypertension vs age feature interaction",
   "id": "47152171d37d1540"
  },
  {
   "metadata": {},
   "cell_type": "code",
   "outputs": [],
   "execution_count": null,
   "source": "noshow_dataset_df1[\"age_hypertension_interraction\"] = noshow_dataset_df1[\"Age\"] * noshow_dataset_df1[\"Hipertension\"]",
   "id": "586e4463d778c5a"
  },
  {
   "metadata": {},
   "cell_type": "markdown",
   "source": "creating a feature for if the appointment day is a weekend",
   "id": "d16c99eedbd86321"
  },
  {
   "metadata": {},
   "cell_type": "code",
   "outputs": [],
   "execution_count": null,
   "source": "noshow_dataset_df1[\"is_weekend\"] = noshow_dataset_df1[\"day_of_week_encoded\"].apply(lambda x: 1 if (x == 5) or (x == 6) else 0)",
   "id": "1f78776cbb2ee18e"
  },
  {
   "metadata": {},
   "cell_type": "code",
   "outputs": [],
   "execution_count": null,
   "source": "noshow_dataset_df1[noshow_dataset_df1[\"is_weekend\"] == 1].count()",
   "id": "11cefe8ea057bf9c"
  },
  {
   "metadata": {},
   "cell_type": "markdown",
   "source": "adding is_Friday boolean feature to the data",
   "id": "27d941a9ff727f6b"
  },
  {
   "metadata": {},
   "cell_type": "code",
   "outputs": [],
   "execution_count": null,
   "source": [
    "noshow_dataset_df1[\"is_friday\"] = noshow_dataset_df1[\"day_of_week_encoded\"].apply(lambda x: 1 if x == 4 else 0)\n",
    "noshow_dataset_df1[(noshow_dataset_df1[\"is_friday\"] == 1)].sample(10)"
   ],
   "id": "f14a5a49668f9629"
  },
  {
   "metadata": {},
   "cell_type": "markdown",
   "source": "age categorization",
   "id": "df44bd5ee7b23e4f"
  },
  {
   "metadata": {},
   "cell_type": "code",
   "outputs": [],
   "execution_count": null,
   "source": [
    "noshow_dataset_df1[\"age_group\"] = pd.cut(noshow_dataset_df1[\"Age\"],\n",
    "                                         bins=[0, 12, 19, 35, 50, 65, 100],\n",
    "                                         labels=['child', 'teen', 'young_adult', 'adult', 'middle_aged', 'senior'])"
   ],
   "id": "b0f6a03f8a65e26c"
  },
  {
   "metadata": {},
   "cell_type": "code",
   "outputs": [],
   "execution_count": null,
   "source": "noshow_dataset_df1.sample(5)",
   "id": "a06bd2cf96bcd9b5"
  },
  {
   "metadata": {},
   "cell_type": "code",
   "outputs": [],
   "execution_count": null,
   "source": [
    "age_group_dummies = pd.get_dummies(noshow_dataset_df1[\"age_group\"], prefix='age_group', dtype=int)\n",
    "age_group_dummies"
   ],
   "id": "4cb49874032d01d0"
  },
  {
   "metadata": {},
   "cell_type": "code",
   "outputs": [],
   "execution_count": null,
   "source": "noshow_dataset_df1 = pd.concat([noshow_dataset_df1, age_group_dummies], axis=1)",
   "id": "5756d94d8b76258b"
  },
  {
   "metadata": {},
   "cell_type": "code",
   "outputs": [],
   "execution_count": null,
   "source": [
    "import numpy as np\n",
    "# Convert to Unix timestamp (seconds)\n",
    "noshow_dataset_df1['ScheduledDay'] = noshow_dataset_df1['ScheduledDay'].astype(np.int64) // 10**9\n",
    "noshow_dataset_df1['AppointmentDay'] = noshow_dataset_df1['AppointmentDay'].astype(np.int64) // 10**9\n"
   ],
   "id": "eee335a624429f8d"
  },
  {
   "metadata": {},
   "cell_type": "code",
   "outputs": [],
   "execution_count": null,
   "source": [
    "final_df = noshow_dataset_df1.drop(['appointment_day_of_week', 'age_group'], axis=1)\n",
    "print(final_df.columns)\n",
    "noshow_dataset_df1[\"AppointmentDay\"].dtype"
   ],
   "id": "4bfeafd0fe11fc79"
  },
  {
   "metadata": {},
   "cell_type": "code",
   "outputs": [],
   "execution_count": null,
   "source": [
    "import numpy as np\n",
    "# Convert to Unix timestamp (seconds)\n",
    "noshow_dataset_df1['ScheduledDay'] = noshow_dataset_df1['ScheduledDay'].astype(np.int64) // 10**9\n",
    "noshow_dataset_df1['AppointmentDay'] = noshow_dataset_df1['AppointmentDay'].astype(np.int64) // 10**9\n"
   ],
   "id": "feb6e0f86cf01f83"
  },
  {
   "metadata": {},
   "cell_type": "code",
   "outputs": [],
   "execution_count": null,
   "source": "final_df.sample(4)",
   "id": "574ef6a99c50097d"
  },
  {
   "metadata": {},
   "cell_type": "code",
   "outputs": [],
   "execution_count": null,
   "source": "",
   "id": "7410ec9784b10169"
  },
  {
   "metadata": {},
   "cell_type": "markdown",
   "source": "## Model Training and Evaluation",
   "id": "b37cd8f7fda1b273"
  },
  {
   "metadata": {},
   "cell_type": "markdown",
   "source": "initial model training",
   "id": "a8b70acf2a93da5d"
  },
  {
   "metadata": {},
   "cell_type": "code",
   "outputs": [],
   "execution_count": null,
   "source": [
    "X = final_df[['Gender', 'ScheduledDay', 'AppointmentDay', 'Age', 'Neighbourhood', 'Scholarship', 'Hipertension', 'Diabetes', 'Alcoholism', 'Handcap', 'SMS_received', 'No-show', 'WaitingDays', 'appointment_month','day_of_week_encoded', 'age_hypertension_interraction', 'is_weekend',\n",
    "       'is_friday', 'age_group_child', 'age_group_teen',\n",
    "       'age_group_young_adult', 'age_group_adult', 'age_group_middle_aged',\n",
    "       'age_group_senior']]\n",
    "y = final_df['No-show']"
   ],
   "id": "e858fae008712052"
  },
  {
   "metadata": {},
   "cell_type": "code",
   "outputs": [],
   "execution_count": null,
   "source": [
    "from sklearn.model_selection import train_test_split\n",
    "X_train, X_test, y_train, y_test = train_test_split(X, y, random_state=42)"
   ],
   "id": "f9c80c2a0cb52fef"
  },
  {
   "metadata": {},
   "cell_type": "code",
   "outputs": [],
   "execution_count": null,
   "source": [
    "from sklearn.neighbors import KNeighborsClassifier\n",
    "kcl = KNeighborsClassifier(n_neighbors=5, n_jobs=-1, algorithm='ball_tree').fit(X_train,y_train)"
   ],
   "id": "b35238f784628632"
  },
  {
   "metadata": {},
   "cell_type": "code",
   "outputs": [],
   "execution_count": null,
   "source": "print(kcl.score(X_test, y_test))",
   "id": "902dffc8629add07"
  },
  {
   "metadata": {},
   "cell_type": "markdown",
   "source": [
    "parameter fine tuning\n",
    "            → finding the ideal number of n_neighbours to create a model thats 70-90% accurate"
   ],
   "id": "5b6163f9f4b1254f"
  },
  {
   "metadata": {},
   "cell_type": "markdown",
   "source": "# WARNING: the cell below is compute intensive",
   "id": "b8f0be34f131bd0c"
  },
  {
   "metadata": {},
   "cell_type": "code",
   "outputs": [],
   "execution_count": null,
   "source": [
    "from tqdm import tqdm as tqdm_base\n",
    "import matplotlib.pyplot as plt\n",
    "\n",
    "testing_accuracy = []\n",
    "neighbours = range(1, 100, 1)\n",
    "\n",
    "for n in tqdm_base(neighbours, desc=\"Testing neighbors\"):\n",
    "    kcl = KNeighborsClassifier(n_neighbors=n, n_jobs=-1, algorithm=\"ball_tree\").fit(X_train, y_train)\n",
    "    acc = kcl.score(X_test, y_test)\n",
    "    testing_accuracy.append(acc)\n",
    "\n",
    "plt.plot(neighbours, testing_accuracy, label='testing_accuracy')\n",
    "plt.ylabel('Accuracy score')\n",
    "plt.xlabel('n_neighbors')\n",
    "plt.legend()\n",
    "plt.show()\n"
   ],
   "id": "ddc3cae4db9243ce"
  },
  {
   "metadata": {},
   "cell_type": "code",
   "outputs": [],
   "execution_count": null,
   "source": "print(testing_accuracy)",
   "id": "ccde4c079e68f1ab"
  }
 ],
 "metadata": {
  "kernelspec": {
   "display_name": "Python 3",
   "language": "python",
   "name": "python3"
  },
  "language_info": {
   "codemirror_mode": {
    "name": "ipython",
    "version": 2
   },
   "file_extension": ".py",
   "mimetype": "text/x-python",
   "name": "python",
   "nbconvert_exporter": "python",
   "pygments_lexer": "ipython2",
   "version": "2.7.6"
  }
 },
 "nbformat": 4,
 "nbformat_minor": 5
}
