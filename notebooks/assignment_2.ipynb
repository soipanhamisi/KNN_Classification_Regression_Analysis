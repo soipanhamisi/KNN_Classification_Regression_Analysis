{
 "cells": [
  {
   "metadata": {},
   "cell_type": "markdown",
   "source": "#### Loading the noshowappointments dataset from Kaggle and loading it onto a Pandas dataframe",
   "id": "f277dcac19c2ba97"
  },
  {
   "metadata": {},
   "cell_type": "code",
   "outputs": [],
   "execution_count": null,
   "source": [
    "import kagglehub\n",
    "path = kagglehub.dataset_download(\"joniarroba/noshowappointments\")\n",
    "print(\"path to dataset files -> {}\".format(path))"
   ],
   "id": "20513b14775286cc"
  },
  {
   "metadata": {},
   "cell_type": "code",
   "outputs": [],
   "execution_count": null,
   "source": [
    "import os\n",
    "print(os.listdir(path))"
   ],
   "id": "be0b2fa082e0d80"
  },
  {
   "metadata": {},
   "cell_type": "code",
   "outputs": [],
   "execution_count": null,
   "source": [
    "import pandas as pd\n",
    "files = os.listdir(path)\n",
    "csv_file = [f for f in files if f.endswith('.csv')][0]\n",
    "fullpath = os.path.join(path, csv_file)\n",
    "noshow_dataset_df = pd.read_csv(fullpath)"
   ],
   "id": "3dff9c8ba2b07f47"
  },
  {
   "metadata": {},
   "cell_type": "markdown",
   "source": "#### Data exploratrion",
   "id": "53d24d9e5477abb"
  },
  {
   "metadata": {},
   "cell_type": "code",
   "outputs": [],
   "execution_count": null,
   "source": "noshow_dataset_df.head(4)",
   "id": "5eea714fdc030fb1"
  },
  {
   "metadata": {},
   "cell_type": "code",
   "outputs": [],
   "execution_count": null,
   "source": "noshow_dataset_df.info()",
   "id": "9762254d91b3e9fa"
  },
  {
   "metadata": {},
   "cell_type": "code",
   "outputs": [],
   "execution_count": null,
   "source": "noshow_dataset_df.describe()",
   "id": "428ac246a88f59fe"
  },
  {
   "metadata": {},
   "cell_type": "markdown",
   "source": "#### Removal of features than cannot affect the outcome(i.e., whether the patient is a no show) in any way",
   "id": "45b32f0565157338"
  },
  {
   "metadata": {},
   "cell_type": "code",
   "outputs": [],
   "execution_count": null,
   "source": "noshow_dataset_df1 = noshow_dataset_df.drop(['PatientId', 'AppointmentID'], axis=1)",
   "id": "5804bb9749ca964a"
  },
  {
   "metadata": {},
   "cell_type": "code",
   "outputs": [],
   "execution_count": null,
   "source": "noshow_dataset_df1.describe()",
   "id": "f374ec0cbca2aa3b"
  },
  {
   "metadata": {},
   "cell_type": "code",
   "outputs": [],
   "execution_count": null,
   "source": "noshow_dataset_df1.head()",
   "id": "9ea6f9d44079d787"
  },
  {
   "metadata": {},
   "cell_type": "code",
   "outputs": [],
   "execution_count": null,
   "source": "noshow_dataset_df1.tail(100)",
   "id": "9339bc5811e050c1"
  },
  {
   "metadata": {},
   "cell_type": "markdown",
   "source": "## converting all the columns to numeric datatypes",
   "id": "903f7d6cbf829025"
  },
  {
   "metadata": {},
   "cell_type": "markdown",
   "source": "male values denoted by 'M' in the Gender column are encoded as 0 and female → 'F' encoded as 1",
   "id": "913d66bf9917e21c"
  },
  {
   "metadata": {},
   "cell_type": "code",
   "outputs": [],
   "execution_count": null,
   "source": "noshow_dataset_df1['Gender'] = noshow_dataset_df1['Gender'].apply(lambda x: 1 if x == 'F' else 0)",
   "id": "6d531d4b5fa4c0fa"
  },
  {
   "metadata": {},
   "cell_type": "code",
   "outputs": [],
   "execution_count": null,
   "source": "noshow_dataset_df1.keys()",
   "id": "25cc99d893a51d19"
  },
  {
   "metadata": {},
   "cell_type": "markdown",
   "source": [
    "Encoding of the No-show column:\n",
    " 'Yes' encoded as 1\n",
    " 'No' encoded as 0"
   ],
   "id": "b213fc76a3a60735"
  },
  {
   "metadata": {},
   "cell_type": "code",
   "outputs": [],
   "execution_count": null,
   "source": "noshow_dataset_df1['No-show'] = noshow_dataset_df1['No-show'].apply(lambda x: 1 if x == 'Yes' else 0)",
   "id": "8973a48fcfbcd308"
  },
  {
   "metadata": {},
   "cell_type": "code",
   "outputs": [],
   "execution_count": null,
   "source": "noshow_dataset_df1.describe()",
   "id": "3ea189d09c426dba"
  },
  {
   "metadata": {},
   "cell_type": "code",
   "outputs": [],
   "execution_count": null,
   "source": "noshow_dataset_df1.info()",
   "id": "2d995b0b0ec7d19d"
  },
  {
   "metadata": {},
   "cell_type": "code",
   "outputs": [],
   "execution_count": null,
   "source": "noshow_dataset_df1[['ScheduledDay', 'AppointmentDay']].tail(100)",
   "id": "87841e630fa664f0"
  },
  {
   "metadata": {},
   "cell_type": "markdown",
   "source": "## Feature engineering",
   "id": "8f75a41101373b05"
  },
  {
   "metadata": {},
   "cell_type": "markdown",
   "source": "In the cell below, the duration, in days, between schedule day and appointment day is derived and stored in a column",
   "id": "ee8debe68bd20f44"
  },
  {
   "metadata": {},
   "cell_type": "code",
   "outputs": [],
   "execution_count": null,
   "source": [
    "noshow_dataset_df1[['AppointmentDay', 'ScheduledDay']] = noshow_dataset_df1[['AppointmentDay', 'ScheduledDay']].apply(pd.to_datetime)\n",
    "noshow_dataset_df1['WaitingDays'] = (noshow_dataset_df1['AppointmentDay'] - noshow_dataset_df1['ScheduledDay']).dt.days"
   ],
   "id": "2ff0a0126150526b"
  },
  {
   "metadata": {},
   "cell_type": "code",
   "outputs": [],
   "execution_count": null,
   "source": "noshow_dataset_df1['WaitingDays'].head(10000)",
   "id": "12f2690533699713"
  },
  {
   "metadata": {},
   "cell_type": "code",
   "outputs": [],
   "execution_count": null,
   "source": [
    "negative_wait = noshow_dataset_df1[noshow_dataset_df1['WaitingDays'] < 0]\n",
    "print(f\"Records with negative waiting time: {len(negative_wait)}\")\n",
    "print(f\"Percentage of total: {len(negative_wait)/len(noshow_dataset_df1)*100:.2f}%\")"
   ],
   "id": "b8a7e6ecdbaaf06c"
  },
  {
   "metadata": {},
   "cell_type": "code",
   "outputs": [],
   "execution_count": null,
   "source": "noshow_dataset_df1[noshow_dataset_df1['WaitingDays'] == -1].sample(n=10, replace=True)",
   "id": "bdaaf4c99cffee2d"
  },
  {
   "metadata": {},
   "cell_type": "code",
   "outputs": [],
   "execution_count": null,
   "source": "noshow_dataset_df1[(noshow_dataset_df1['WaitingDays'] == -1) & (noshow_dataset_df1['No-show'] == 1)].sample(n=5)",
   "id": "5f0146b9d56aab57"
  },
  {
   "metadata": {},
   "cell_type": "code",
   "outputs": [],
   "execution_count": null,
   "source": "print(len(noshow_dataset_df[(noshow_dataset_df1['WaitingDays'] == -1) & (noshow_dataset_df1['No-show'] == 1)])/ len(negative_wait) * 100)",
   "id": "57de7d6d691b7d1f"
  },
  {
   "metadata": {},
   "cell_type": "markdown",
   "source": [
    "some statistics,\n",
    "    37% of records show negative waiting times\n",
    "    of that 4% are no show appointments\n",
    "conclusion:\n",
    "    initially thought negative waiting times are a proxy for walk-in appointments, however, 4% no show subset disproves this, and\n",
    "    now it is assumed that they are errors in data collections."
   ],
   "id": "fc6762590a55ec99"
  },
  {
   "metadata": {},
   "cell_type": "markdown",
   "source": "### issuing an integer id for each unique neighborhood",
   "id": "72f26692b31f3be9"
  },
  {
   "metadata": {},
   "cell_type": "code",
   "outputs": [],
   "execution_count": null,
   "source": "print(noshow_dataset_df1['Neighbourhood'].nunique())",
   "id": "1e5acf2f739033bf"
  },
  {
   "metadata": {},
   "cell_type": "markdown",
   "source": "80 unique neighborhoods to be converted into 80 integer ids",
   "id": "ebc17c445773c2ef"
  },
  {
   "metadata": {},
   "cell_type": "code",
   "outputs": [],
   "execution_count": null,
   "source": [
    "from sklearn.preprocessing import LabelEncoder\n",
    "le = LabelEncoder()\n",
    "noshow_dataset_df1['Neighbourhood'] = le.fit_transform(noshow_dataset_df1['Neighbourhood'])\n",
    "print(\"Neighbourhood lookup table:\\n\")\n",
    "for i,class_name in enumerate(le.classes_):\n",
    "    print(\"ID: {}, Neighborhood name: {}\".format(i, class_name))"
   ],
   "id": "5dbb71e642f30266"
  },
  {
   "metadata": {},
   "cell_type": "code",
   "outputs": [],
   "execution_count": null,
   "source": "noshow_dataset_df1.head(5)",
   "id": "8b5ab53ddb7c9cda"
  },
  {
   "metadata": {},
   "cell_type": "markdown",
   "source": "extracting the day of the week and month for the appointment",
   "id": "b280d7ef586bd315"
  },
  {
   "metadata": {},
   "cell_type": "code",
   "outputs": [],
   "execution_count": null,
   "source": [
    "noshow_dataset_df1['appointment_day_of_week'] = noshow_dataset_df1['AppointmentDay'].dt.day_name()\n",
    "noshow_dataset_df1['appointment_month'] = noshow_dataset_df1['AppointmentDay'].dt.month"
   ],
   "id": "6ab6a95119cb145b"
  },
  {
   "metadata": {},
   "cell_type": "markdown",
   "source": "encoding the day of the week",
   "id": "c3b58f3c8994d8c1"
  },
  {
   "metadata": {},
   "cell_type": "code",
   "outputs": [],
   "execution_count": null,
   "source": [
    "# For KNN, you might want numerical encoding\n",
    "day_mapping = {'Monday': 0, 'Tuesday': 1, 'Wednesday': 2, 'Thursday': 3,\n",
    "               'Friday': 4, 'Saturday': 5, 'Sunday': 6}\n",
    "noshow_dataset_df1['day_of_week_encoded'] = noshow_dataset_df1['appointment_day_of_week'].map(day_mapping)"
   ],
   "id": "a9bb241b10380f71"
  },
  {
   "metadata": {},
   "cell_type": "code",
   "outputs": [],
   "execution_count": null,
   "source": "noshow_dataset_df1['appointment_month'].sample(10000)",
   "id": "cdd277b63da33e72"
  },
  {
   "metadata": {},
   "cell_type": "code",
   "outputs": [],
   "execution_count": null,
   "source": "noshow_dataset_df1[['appointment_month','AppointmentDay']].sample(20)",
   "id": "c0b45ffda82462ab"
  },
  {
   "metadata": {},
   "cell_type": "markdown",
   "source": "### adding the hypertension vs age feature interaction",
   "id": "f510fabb22424b7f"
  },
  {
   "metadata": {},
   "cell_type": "code",
   "outputs": [],
   "execution_count": null,
   "source": "noshow_dataset_df1[\"age_hypertension_interraction\"] = noshow_dataset_df1[\"Age\"] * noshow_dataset_df1[\"Hipertension\"]",
   "id": "14ddebd174f84d77"
  },
  {
   "metadata": {},
   "cell_type": "markdown",
   "source": "creating a feature for if the appointment day is a weekend",
   "id": "5d01a43b4521fdc2"
  },
  {
   "metadata": {},
   "cell_type": "code",
   "outputs": [],
   "execution_count": null,
   "source": "noshow_dataset_df1[\"is_weekend\"] = noshow_dataset_df1[\"day_of_week_encoded\"].apply(lambda x: 1 if (x == 5) or (x == 6) else 0)",
   "id": "118cfe6d09d5269b"
  },
  {
   "metadata": {},
   "cell_type": "code",
   "outputs": [],
   "execution_count": null,
   "source": "noshow_dataset_df1[noshow_dataset_df1[\"is_weekend\"] == 1].count()",
   "id": "ee4ddbb5cf8ff0b6"
  },
  {
   "metadata": {},
   "cell_type": "markdown",
   "source": "adding is_Friday boolean feature to the data",
   "id": "e0bbedc68ae36861"
  },
  {
   "metadata": {},
   "cell_type": "code",
   "outputs": [],
   "execution_count": null,
   "source": [
    "noshow_dataset_df1[\"is_friday\"] = noshow_dataset_df1[\"day_of_week_encoded\"].apply(lambda x: 1 if x == 4 else 0)\n",
    "noshow_dataset_df1[(noshow_dataset_df1[\"is_friday\"] == 1)].sample(10)"
   ],
   "id": "eb987056e079b8"
  },
  {
   "metadata": {},
   "cell_type": "markdown",
   "source": "age categorization",
   "id": "a8971485222996c3"
  },
  {
   "metadata": {},
   "cell_type": "code",
   "outputs": [],
   "execution_count": null,
   "source": [
    "noshow_dataset_df1[\"age_group\"] = pd.cut(noshow_dataset_df1[\"Age\"],\n",
    "                                         bins=[0, 12, 19, 35, 50, 65, 100],\n",
    "                                         labels=['child', 'teen', 'young_adult', 'adult', 'middle_aged', 'senior'])"
   ],
   "id": "70d16ef985c62466"
  },
  {
   "metadata": {},
   "cell_type": "code",
   "outputs": [],
   "execution_count": null,
   "source": "noshow_dataset_df1.sample(5)",
   "id": "2c20af687449a529"
  },
  {
   "metadata": {},
   "cell_type": "code",
   "outputs": [],
   "execution_count": null,
   "source": [
    "age_group_dummies = pd.get_dummies(noshow_dataset_df1[\"age_group\"], prefix='age_group', dtype=int)\n",
    "age_group_dummies"
   ],
   "id": "7387fbbf6d483e61"
  },
  {
   "metadata": {},
   "cell_type": "code",
   "outputs": [],
   "execution_count": null,
   "source": "noshow_dataset_df1 = pd.concat([noshow_dataset_df1, age_group_dummies], axis=1)",
   "id": "506294636452ffb3"
  },
  {
   "metadata": {},
   "cell_type": "code",
   "outputs": [],
   "execution_count": null,
   "source": [
    "import numpy as np\n",
    "# Convert to Unix timestamp (seconds)\n",
    "noshow_dataset_df1['ScheduledDay'] = noshow_dataset_df1['ScheduledDay'].astype(np.int64) // 10**9\n",
    "noshow_dataset_df1['AppointmentDay'] = noshow_dataset_df1['AppointmentDay'].astype(np.int64) // 10**9\n"
   ],
   "id": "f6b1bb3086a962cf"
  },
  {
   "metadata": {},
   "cell_type": "code",
   "outputs": [],
   "execution_count": null,
   "source": [
    "final_df = noshow_dataset_df1.drop(['appointment_day_of_week', 'age_group'], axis=1)\n",
    "print(final_df.columns)\n",
    "noshow_dataset_df1[\"AppointmentDay\"].dtype"
   ],
   "id": "51b014b163292445"
  },
  {
   "metadata": {},
   "cell_type": "code",
   "outputs": [],
   "execution_count": null,
   "source": [
    "import numpy as np\n",
    "# Convert to Unix timestamp (seconds)\n",
    "noshow_dataset_df1['ScheduledDay'] = noshow_dataset_df1['ScheduledDay'].astype(np.int64) // 10**9\n",
    "noshow_dataset_df1['AppointmentDay'] = noshow_dataset_df1['AppointmentDay'].astype(np.int64) // 10**9\n"
   ],
   "id": "9e66d57711a0e927"
  },
  {
   "metadata": {},
   "cell_type": "code",
   "outputs": [],
   "execution_count": null,
   "source": "final_df.sample(4)",
   "id": "c284b366ab9da58a"
  },
  {
   "metadata": {},
   "cell_type": "code",
   "outputs": [],
   "execution_count": null,
   "source": "",
   "id": "fd2fa5384e08f387"
  },
  {
   "metadata": {},
   "cell_type": "markdown",
   "source": "## Model Training and Evaluation",
   "id": "99f29672beebf1ab"
  },
  {
   "metadata": {},
   "cell_type": "markdown",
   "source": "initial model training",
   "id": "317b0767880664db"
  },
  {
   "metadata": {},
   "cell_type": "code",
   "outputs": [],
   "execution_count": null,
   "source": [
    "X = final_df[['Gender', 'ScheduledDay', 'AppointmentDay', 'Age', 'Neighbourhood', 'Scholarship', 'Hipertension', 'Diabetes', 'Alcoholism', 'Handcap', 'SMS_received', 'WaitingDays', 'appointment_month','day_of_week_encoded', 'age_hypertension_interraction', 'is_weekend',\n",
    "       'is_friday', 'age_group_child', 'age_group_teen',\n",
    "       'age_group_young_adult', 'age_group_adult', 'age_group_middle_aged',\n",
    "       'age_group_senior']]\n",
    "y = final_df['No-show']"
   ],
   "id": "95f338f62cdadce"
  },
  {
   "metadata": {},
   "cell_type": "code",
   "outputs": [],
   "execution_count": null,
   "source": [
    "from sklearn.model_selection import train_test_split\n",
    "X_train, X_test, y_train, y_test = train_test_split(X, y, random_state=42)"
   ],
   "id": "edcb72be96b137f5"
  },
  {
   "metadata": {},
   "cell_type": "code",
   "outputs": [],
   "execution_count": null,
   "source": [
    "from sklearn.neighbors import KNeighborsClassifier\n",
    "kcl = KNeighborsClassifier(n_neighbors=5, n_jobs=-1, algorithm='ball_tree').fit(X_train,y_train)"
   ],
   "id": "5a820514166f4ed"
  },
  {
   "metadata": {},
   "cell_type": "code",
   "outputs": [],
   "execution_count": null,
   "source": "print(kcl.score(X_test, y_test))",
   "id": "ac4fc4058d10dc57"
  },
  {
   "metadata": {},
   "cell_type": "markdown",
   "source": [
    "parameter fine tuning\n",
    "            → finding the ideal number of n_neighbours to create a model thats 70-90% accurate"
   ],
   "id": "a36b062f3e81952"
  },
  {
   "metadata": {},
   "cell_type": "markdown",
   "source": "# ⚠️ PERFORMANCE WARNING: This cell performs hyperparameter tuning over 99 iterations and may take several minutes to complete",
   "id": "493543c300b63b88"
  },
  {
   "metadata": {},
   "cell_type": "code",
   "outputs": [],
   "execution_count": null,
   "source": [
    "from tqdm.notebook import tqdm\n",
    "import matplotlib.pyplot as plt\n",
    "\n",
    "testing_accuracy = []\n",
    "neighbours = range(1, 100, 1)\n",
    "\n",
    "for n in tqdm(neighbours, desc=\"Testing neighbors\"):\n",
    "    kcl = KNeighborsClassifier(n_neighbors=n, n_jobs=-1, algorithm=\"ball_tree\").fit(X_train, y_train)\n",
    "    acc = kcl.score(X_test, y_test)\n",
    "    testing_accuracy.append(acc)\n",
    "\n",
    "plt.plot(neighbours, testing_accuracy, label='testing_accuracy')\n",
    "plt.ylabel('Accuracy score')\n",
    "plt.xlabel('n_neighbors')\n",
    "plt.legend()\n",
    "plt.show()\n"
   ],
   "id": "5923c967db2f1dd1"
  },
  {
   "metadata": {},
   "cell_type": "code",
   "outputs": [],
   "execution_count": null,
   "source": "print(testing_accuracy)",
   "id": "404857a30caccd2d"
  },
  {
   "metadata": {},
   "cell_type": "code",
   "outputs": [],
   "execution_count": null,
   "source": [
    "# =============================================\n",
    "# CONCRETE COMPRESSIVE STRENGTH DATASET - KNN REGRESSION\n",
    "# =============================================\n",
    "\n",
    "print(\"=\" * 60)\n",
    "print(\"CONCRETE COMPRESSIVE STRENGTH ANALYSIS\")\n",
    "print(\"=\" * 60)"
   ],
   "id": "965187be76e86276"
  },
  {
   "metadata": {},
   "cell_type": "code",
   "outputs": [],
   "execution_count": null,
   "source": [
    "# Load Concrete Compressive Strength dataset from UCI\n",
    "print(\"Loading Concrete Compressive Strength dataset...\")\n",
    "from ucimlrepo import fetch_ucirepo\n",
    "concrete_data = fetch_ucirepo(id=165)\n",
    "\n",
    "# Extract features and target\n",
    "concrete_features = concrete_data.data.features\n",
    "concrete_target = concrete_data.data.targets\n",
    "\n",
    "# Create DataFrame\n",
    "concrete_df = pd.DataFrame(concrete_features)\n",
    "concrete_df['compressive_strength'] = concrete_target\n",
    "\n",
    "print(f\"Concrete dataset shape: {concrete_df.shape}\")\n",
    "print(\"Concrete dataset loaded successfully!\")"
   ],
   "id": "1a3a37d085993705"
  },
  {
   "metadata": {},
   "cell_type": "code",
   "outputs": [],
   "execution_count": null,
   "source": [
    "# 1. Basic Information\n",
    "print(\"1. DATASET OVERVIEW\")\n",
    "print(\"=\" * 40)\n",
    "print(f\"Dataset shape: {concrete_df.shape}\")\n",
    "print(\"\\nFirst 5 rows:\")\n",
    "print(concrete_df.head())\n",
    "\n",
    "print(\"\\nDataset info:\")\n",
    "print(concrete_df.info())\n",
    "\n",
    "print(\"\\nBasic statistics:\")\n",
    "print(concrete_df.describe())"
   ],
   "id": "e2d962954485284a"
  },
  {
   "metadata": {},
   "cell_type": "code",
   "outputs": [],
   "execution_count": null,
   "source": [
    "# 2. Check for missing values\n",
    "print(\"\\n2. DATA QUALITY CHECK\")\n",
    "print(\"=\" * 40)\n",
    "print(\"Missing values:\")\n",
    "print(concrete_df.isnull().sum())\n",
    "\n",
    "print(\"\\nDuplicate rows:\", concrete_df.duplicated().sum())"
   ],
   "id": "cd33f5652ded731f"
  },
  {
   "metadata": {},
   "cell_type": "code",
   "outputs": [],
   "execution_count": null,
   "source": [
    "# 3. Visualize distributions\n",
    "import matplotlib.pyplot as plt\n",
    "import seaborn as sns\n",
    "\n",
    "print(\"\\n3. FEATURE DISTRIBUTIONS\")\n",
    "print(\"=\" * 40)\n",
    "\n",
    "fig, axes = plt.subplots(3, 3, figsize=(15, 12))\n",
    "axes = axes.ravel()\n",
    "\n",
    "features = ['Cement', 'Blast Furnace Slag', 'Fly Ash', 'Water',\n",
    "           'Superplasticizer', 'Coarse Aggregate', 'Fine Aggregate', 'Age']\n",
    "\n",
    "for i, feature in enumerate(features):\n",
    "    axes[i].hist(concrete_df[feature], bins=30, alpha=0.7, color='skyblue')\n",
    "    axes[i].set_title(f'Distribution of {feature}')\n",
    "    axes[i].set_xlabel(feature)\n",
    "    axes[i].set_ylabel('Frequency')\n",
    "\n",
    "axes[-1].set_visible(False)\n",
    "\n",
    "plt.tight_layout()\n",
    "plt.show()\n",
    "\n",
    "plt.figure(figsize=(10, 6))\n",
    "plt.hist(concrete_df['compressive_strength'], bins=30, alpha=0.7, color='lightgreen')\n",
    "plt.title('Distribution of Compressive Strength (Target Variable)')\n",
    "plt.xlabel('Compressive Strength (MPa)')\n",
    "plt.ylabel('Frequency')\n",
    "plt.show()"
   ],
   "id": "11a480fa1db95ee3"
  },
  {
   "metadata": {},
   "cell_type": "code",
   "outputs": [],
   "execution_count": null,
   "source": [
    "# 4. Correlation Analysis\n",
    "print(\"\\n4. CORRELATION ANALYSIS\")\n",
    "print(\"=\" * 40)\n",
    "\n",
    "plt.figure(figsize=(12, 8))\n",
    "correlation_matrix = concrete_df.corr()\n",
    "sns.heatmap(correlation_matrix, annot=True, cmap='coolwarm', center=0,\n",
    "            square=True, linewidths=0.5)\n",
    "plt.title('Feature Correlation Matrix')\n",
    "plt.tight_layout()\n",
    "plt.show()\n",
    "\n",
    "target_correlations = correlation_matrix['compressive_strength'].sort_values(ascending=False)\n",
    "print(\"\\nCorrelations with Compressive Strength:\")\n",
    "print(target_correlations)"
   ],
   "id": "aa0db727103536fe"
  },
  {
   "metadata": {},
   "cell_type": "code",
   "outputs": [],
   "execution_count": null,
   "source": [
    "# 5. DATA PREPROCESSING\n",
    "print(\"\\n5. DATA PREPROCESSING\")\n",
    "print(\"=\" * 40)\n",
    "\n",
    "from sklearn.preprocessing import StandardScaler\n",
    "from sklearn.model_selection import train_test_split\n",
    "\n",
    "X_concrete = concrete_df.drop('compressive_strength', axis=1)\n",
    "y_concrete = concrete_df['compressive_strength']\n",
    "\n",
    "print(f\"Features shape: {X_concrete.shape}\")\n",
    "print(f\"Target shape: {y_concrete.shape}\")\n",
    "\n",
    "X_train_conc, X_test_conc, y_train_conc, y_test_conc = train_test_split(\n",
    "    X_concrete, y_concrete, test_size=0.2, random_state=42\n",
    ")\n",
    "\n",
    "print(f\"Training set: {X_train_conc.shape}\")\n",
    "print(f\"Testing set: {X_test_conc.shape}\")\n",
    "\n",
    "scaler = StandardScaler()\n",
    "X_train_conc_scaled = scaler.fit_transform(X_train_conc)\n",
    "X_test_conc_scaled = scaler.transform(X_test_conc)\n",
    "\n",
    "print(\"Feature scaling completed!\")"
   ],
   "id": "d495ab56777a4f51"
  },
  {
   "metadata": {},
   "cell_type": "code",
   "outputs": [],
   "execution_count": null,
   "source": [
    "# 6. KNN REGRESSION MODEL\n",
    "print(\"\\n6. KNN REGRESSION MODEL DEVELOPMENT\")\n",
    "print(\"=\" * 40)\n",
    "\n",
    "from sklearn.neighbors import KNeighborsRegressor\n",
    "from sklearn.metrics import mean_squared_error, mean_absolute_error, r2_score\n",
    "import numpy as np\n",
    "\n",
    "knn_reg = KNeighborsRegressor(n_neighbors=5)\n",
    "knn_reg.fit(X_train_conc_scaled, y_train_conc)\n",
    "\n",
    "y_pred_conc = knn_reg.predict(X_test_conc_scaled)\n",
    "\n",
    "mse = mean_squared_error(y_test_conc, y_pred_conc)\n",
    "rmse = np.sqrt(mse)\n",
    "mae = mean_absolute_error(y_test_conc, y_pred_conc)\n",
    "r2 = r2_score(y_test_conc, y_pred_conc)\n",
    "\n",
    "print(\"Initial KNN Regression Results (k=5):\")\n",
    "print(f\"Mean Squared Error (MSE): {mse:.4f}\")\n",
    "print(f\"Root Mean Squared Error (RMSE): {rmse:.4f}\")\n",
    "print(f\"Mean Absolute Error (MAE): {mae:.4f}\")\n",
    "print(f\"R² Score: {r2:.4f}\")"
   ],
   "id": "27b8f1b0ae385206"
  },
  {
   "metadata": {},
   "cell_type": "code",
   "outputs": [],
   "execution_count": null,
   "source": [
    "# 7. HYPERPARAMETER TUNING\n",
    "print(\"\\n7. HYPERPARAMETER TUNING\")\n",
    "print(\"=\" * 40)\n",
    "\n",
    "k_values = range(1, 31)\n",
    "train_scores = []\n",
    "test_scores = []\n",
    "\n",
    "for k in k_values:\n",
    "    knn_temp = KNeighborsRegressor(n_neighbors=k)\n",
    "    knn_temp.fit(X_train_conc_scaled, y_train_conc)\n",
    "\n",
    "    train_pred = knn_temp.predict(X_train_conc_scaled)\n",
    "    test_pred = knn_temp.predict(X_test_conc_scaled)\n",
    "\n",
    "    train_scores.append(r2_score(y_train_conc, train_pred))\n",
    "    test_scores.append(r2_score(y_test_conc, test_pred))\n",
    "\n",
    "plt.figure(figsize=(12, 6))\n",
    "plt.plot(k_values, train_scores, 'o-', label='Training R²')\n",
    "plt.plot(k_values, test_scores, 'o-', label='Testing R²')\n",
    "plt.xlabel('Number of Neighbors (k)')\n",
    "plt.ylabel('R² Score')\n",
    "plt.title('KNN Regression: Finding Optimal k')\n",
    "plt.legend()\n",
    "plt.grid(True)\n",
    "plt.show()\n",
    "\n",
    "best_k_index = np.argmax(test_scores)\n",
    "best_k = k_values[best_k_index]\n",
    "best_score = test_scores[best_k_index]\n",
    "\n",
    "print(f\"Optimal k value: {best_k}\")\n",
    "print(f\"Best R² Score: {best_score:.4f}\")"
   ],
   "id": "3703572f5b78148f"
  },
  {
   "metadata": {},
   "cell_type": "code",
   "outputs": [],
   "execution_count": null,
   "source": [
    "# 8. FINAL OPTIMIZED MODEL\n",
    "print(\"\\n8. FINAL OPTIMIZED KNN REGRESSION MODEL\")\n",
    "print(\"=\" * 40)\n",
    "\n",
    "final_knn_reg = KNeighborsRegressor(n_neighbors=best_k)\n",
    "final_knn_reg.fit(X_train_conc_scaled, y_train_conc)\n",
    "\n",
    "final_pred = final_knn_reg.predict(X_test_conc_scaled)\n",
    "\n",
    "final_mse = mean_squared_error(y_test_conc, final_pred)\n",
    "final_rmse = np.sqrt(final_mse)\n",
    "final_mae = mean_absolute_error(y_test_conc, final_pred)\n",
    "final_r2 = r2_score(y_test_conc, final_pred)\n",
    "\n",
    "print(f\"Optimal k: {best_k}\")\n",
    "print(\"Final Model Performance:\")\n",
    "print(f\"Mean Squared Error (MSE): {final_mse:.4f}\")\n",
    "print(f\"Root Mean Squared Error (RMSE): {final_rmse:.4f}\")\n",
    "print(f\"Mean Absolute Error (MAE): {final_mae:.4f}\")\n",
    "print(f\"R² Score: {final_r2:.4f}\")\n",
    "\n",
    "plt.figure(figsize=(10, 6))\n",
    "plt.scatter(y_test_conc, final_pred, alpha=0.6)\n",
    "plt.plot([y_test_conc.min(), y_test_conc.max()], [y_test_conc.min(), y_test_conc.max()], 'r--', lw=2)\n",
    "plt.xlabel('Actual Compressive Strength')\n",
    "plt.ylabel('Predicted Compressive Strength')\n",
    "plt.title(f'KNN Regression: Actual vs Predicted (k={best_k})')\n",
    "plt.show()\n",
    "\n",
    "residuals = y_test_conc - final_pred\n",
    "plt.figure(figsize=(10, 6))\n",
    "plt.scatter(final_pred, residuals, alpha=0.6)\n",
    "plt.axhline(y=0, color='r', linestyle='--')\n",
    "plt.xlabel('Predicted Values')\n",
    "plt.ylabel('Residuals')\n",
    "plt.title('Residual Plot')\n",
    "plt.show()"
   ],
   "id": "d3ce869f64df3d4a"
  },
  {
   "metadata": {},
   "cell_type": "code",
   "outputs": [],
   "execution_count": null,
   "source": [
    "# =============================================\n",
    "# COMPARISON AND CONCLUSIONS\n",
    "# =============================================\n",
    "\n",
    "print(\"=\" * 60)\n",
    "print(\"MODEL COMPARISON AND CONCLUSIONS\")\n",
    "print(\"=\" * 60)\n",
    "\n",
    "print(\"\\n📊 KNN CLASSIFICATION (No-Show Appointments)\")\n",
    "print(f\"Best Accuracy: {max(testing_accuracy):.4f}\")\n",
    "print(\"Task: Binary classification (show/no-show)\")\n",
    "print(\"Key Features: Patient demographics, appointment details\")\n",
    "\n",
    "print(\"\\n📈 KNN REGRESSION (Concrete Strength)\")\n",
    "print(f\"Best R² Score: {final_r2:.4f}\")\n",
    "print(f\"Best RMSE: {final_rmse:.4f}\")\n",
    "print(\"Task: Regression (predict compressive strength)\")\n",
    "print(\"Key Features: Concrete ingredient proportions, age\")\n",
    "\n",
    "print(\"\\n🔑 KEY INSIGHTS:\")\n",
    "print(\"1. KNN performs well for both classification and regression tasks\")\n",
    "print(\"2. Feature scaling is crucial for KNN regression\")\n",
    "print(\"3. Optimal k varies between datasets and tasks\")\n",
    "print(\"4. Model interpretability is a strength of KNN\")\n",
    "print(\"5. Computational cost increases with dataset size\")"
   ],
   "id": "b586725aa0401c4"
  }
 ],
 "metadata": {
  "kernelspec": {
   "display_name": "Python 3",
   "language": "python",
   "name": "python3"
  },
  "language_info": {
   "codemirror_mode": {
    "name": "ipython",
    "version": 2
   },
   "file_extension": ".py",
   "mimetype": "text/x-python",
   "name": "python",
   "nbconvert_exporter": "python",
   "pygments_lexer": "ipython2",
   "version": "2.7.6"
  }
 },
 "nbformat": 4,
 "nbformat_minor": 5
}
